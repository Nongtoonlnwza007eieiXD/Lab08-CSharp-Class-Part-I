{
 "cells": [
  {
   "cell_type": "markdown",
   "metadata": {},
   "source": [
    "# Lab 8 Exercise 2\n",
    "\n",
    "## การประกาศสมาชิกในคลาส (fields)\n"
   ]
  },
  {
   "cell_type": "markdown",
   "metadata": {},
   "source": [
    "\n",
    "\n",
    "1. สร้าง console application project\n",
    "\n",
    "```\n",
    "    dotnet new console --name Lab08_Ex02\n",
    "```\n"
   ]
  },
  {
   "cell_type": "markdown",
   "metadata": {},
   "source": [
    "\n",
    "2. เปลี่ยน code ให้เป็นดังต่อไปนี้ (ตัวเลขข้างหน้า คือหมายเลขบรรทัด ไว้สำหรับอ้างอิง)\n",
    "\n",
    "> ```csharp\n",
    ">  1. Person p = new Person();\n",
    ">  2. p.name = \"Rambo\";\n",
    ">  3. p.id = \"1987\";\n",
    ">  4. p.income = 2500;\n",
    ">  5. System.Console.WriteLine($\"Type of p is {p.GetType()}\");\n",
    ">  6. System.Console.WriteLine($\"p.name = {p.name}\\ttype = {p.name.GetType()}\");\n",
    ">  7. System.Console.WriteLine($\"p.id = {p.id}\\ttype = {p.id.GetType()}\");\n",
    ">  8. System.Console.WriteLine($\"p.income = {p.income}\\ttype = {p.income.GetType()}\");\n",
    ">  9. \n",
    "> 10. class Person\n",
    "> 11. {\n",
    "> 12.     string name;\n",
    "> 13.     string id;\n",
    "> 14.     int income;\n",
    "> 15. }\n",
    "> ```\n"
   ]
  },
  {
   "cell_type": "markdown",
   "metadata": {},
   "source": [
    "\n",
    "3. Build project โดยการใช้คำสั่ง\n",
    "\n",
    "```\n",
    "    dotnet build  Lab08_Ex02\n",
    "```\n"
   ]
  },
  {
   "cell_type": "markdown",
   "metadata": {},
   "source": [
    "\n",
    "4. บันทึกผลที่ได้จากการรันคำสั่งในข้อ 3\n"
   ]
  },
  {
   "cell_type": "markdown",
   "metadata": {},
   "source": [
    "*คำตอบ*"
   ]
  },
  {
   "cell_type": "markdown",
   "metadata": {},
   "source": [
    "Build succeeded.\n",
    "    0 Warning(s)\n",
    "    0 Error(s)"
   ]
  },
  {
   "cell_type": "markdown",
   "metadata": {},
   "source": [
    "\n",
    "5. Run project โดยการใช้คำสั่ง\n",
    "\n",
    "```\n",
    "    dotnet run --project Lab08_Ex02\n",
    "```\n"
   ]
  },
  {
   "cell_type": "markdown",
   "metadata": {},
   "source": [
    "\n",
    "6. บันทึกผลที่ได้จากการรันคำสั่งในข้อ 5\n",
    "\n"
   ]
  },
  {
   "cell_type": "markdown",
   "metadata": {},
   "source": [
    "*คำตอบ*"
   ]
  },
  {
   "cell_type": "markdown",
   "metadata": {},
   "source": [
    "Type of p is Person\n",
    "p.Name = Rambo  type = System.String\n",
    "p.Id = 1987     type = System.Int32\n",
    "p.Income = 2500 type = System.Int32"
   ]
  },
  {
   "cell_type": "markdown",
   "metadata": {},
   "source": [
    "\n",
    "7. อธิบายสิ่งที่พบในการทดลอง\n",
    "\n"
   ]
  },
  {
   "cell_type": "markdown",
   "metadata": {},
   "source": [
    "*คำตอบ*"
   ]
  },
  {
   "cell_type": "markdown",
   "metadata": {},
   "source": []
  },
  {
   "cell_type": "markdown",
   "metadata": {},
   "source": [
    "8. นำ code ในข้อ 2 มารันบน polyglot notebook  โดยใส่ใน  code cell ด้านล่างนี้\n"
   ]
  },
  {
   "cell_type": "code",
   "execution_count": null,
   "metadata": {
    "dotnet_interactive": {
     "language": "csharp"
    },
    "polyglot_notebook": {
     "kernelName": "csharp"
    }
   },
   "outputs": [],
   "source": [
    "// พื้นที่เขียน code ตามข้อ 2\n",
    "using System;\n",
    "\n",
    "class Program\n",
    "{\n",
    "    static void Main()\n",
    "    {\n",
    "        Person p = new Person();\n",
    "        p.Name = \"Rambo\";\n",
    "        p.Id = 1987;\n",
    "        p.Income = 2500;\n",
    "\n",
    "        Console.WriteLine($\"Type of p is {p.GetType()}\");\n",
    "        Console.WriteLine($\"p.Name = {p.Name}\\ttype = {p.Name.GetType()}\");\n",
    "        Console.WriteLine($\"p.Id = {p.Id}\\ttype = {p.Id.GetType()}\");\n",
    "        Console.WriteLine($\"p.Income = {p.Income}\\ttype = {p.Income.GetType()}\");\n",
    "    }\n",
    "}\n",
    "\n",
    "class Person\n",
    "{\n",
    "    public string Name { get; set; } = string.Empty;  // ป้องกัน null\n",
    "    public int Id { get; set; }                       // เปลี่ยนเป็น int\n",
    "    public int Income { get; set; }                  \n",
    "}"
   ]
  },
  {
   "cell_type": "markdown",
   "metadata": {},
   "source": [
    "8.1 ผลการรันเป็นอย่างไร\n",
    "\n"
   ]
  },
  {
   "cell_type": "markdown",
   "metadata": {},
   "source": [
    "*คำตอบ*"
   ]
  },
  {
   "cell_type": "markdown",
   "metadata": {},
   "source": [
    "ไม่สามารถรันได้"
   ]
  },
  {
   "cell_type": "markdown",
   "metadata": {},
   "source": [
    "8.2 เหมือนหรือค่างจาก console application อย่างไร"
   ]
  },
  {
   "cell_type": "markdown",
   "metadata": {},
   "source": [
    "*คำตอบ*"
   ]
  },
  {
   "cell_type": "markdown",
   "metadata": {},
   "source": [
    " run ในconsole app สามารถทำได้เเละเเสดงผล เเต่ใน polyglot ไม่สามารถ run ได้เนื่องจาก ไม่ได้ประกาศตัวเเปรให้เป็น public เเต่ประกาศเป็น protected เเทน"
   ]
  },
  {
   "cell_type": "markdown",
   "metadata": {},
   "source": [
    "## คำถาม"
   ]
  },
  {
   "cell_type": "markdown",
   "metadata": {},
   "source": [
    "1. Field ในภาษา C# คืออะไร\n"
   ]
  },
  {
   "cell_type": "markdown",
   "metadata": {},
   "source": [
    "*คำตอบ*"
   ]
  },
  {
   "cell_type": "markdown",
   "metadata": {},
   "source": [
    "ในภาษา C# Field คือตัวแปรที่ประกาศไว้ภายในคลาส (Class) หรือโครงสร้าง (Struct) เพื่อเก็บข้อมูลหรือสถานะของอ็อบเจ็กต์ (Object) ที่สร้างจากคลาสนั้นๆ"
   ]
  },
  {
   "cell_type": "markdown",
   "metadata": {},
   "source": [
    "2. Field มีหน้าที่อะไรใน class \n"
   ]
  },
  {
   "cell_type": "markdown",
   "metadata": {},
   "source": [
    "*คำตอบ*"
   ]
  },
  {
   "cell_type": "markdown",
   "metadata": {},
   "source": [
    "ในภาษา C# Field มีหน้าที่สำคัญในการจัดเก็บข้อมูลหรือสถานะของอ็อบเจ็กต์ (Object) ที่สร้างจากคลาส (Class) ซึ่งเป็นเหมือนพิมพ์เขียวหรือแม่แบบในการสร้างอ็อบเจ็กต์"
   ]
  },
  {
   "cell_type": "markdown",
   "metadata": {},
   "source": [
    "3. การประกาศ Field ทำได้อย่างไร ให้อธิบายรูปแบบการประกาศ field ในคลาส\n"
   ]
  },
  {
   "cell_type": "markdown",
   "metadata": {},
   "source": [
    "*คำตอบ*"
   ]
  },
  {
   "cell_type": "markdown",
   "metadata": {},
   "source": [
    "Field คือตัวแปรที่ประกาศไว้ภายในคลาส (Class) หรือโครงสร้าง (Struct) เพื่อเก็บข้อมูลหรือสถานะของอ็อบเจ็กต์ (Object) ที่สร้างจากคลาสนั้นๆ\n",
    "\n",
    "[access modifier] [type] [field name]; รูปแบบการประกาศ"
   ]
  },
  {
   "cell_type": "markdown",
   "metadata": {},
   "source": [
    "4. Field และ Variable แตกต่างกันอย่างไร\n"
   ]
  },
  {
   "cell_type": "markdown",
   "metadata": {},
   "source": [
    "Field คือสมาชิกของคลาส ใช้เก็บข้อมูลที่ เป็นส่วนหนึ่ง ของอ็อบเจ็กต์\n",
    "\n",
    "Variable คือตัวแปรที่ใช้ภายในเมธอด เก็บข้อมูล ชั่วคราว เพื่อการคำนวณหรือทำงานบางอย่าง"
   ]
  },
  {
   "cell_type": "markdown",
   "metadata": {},
   "source": [
    "5. เมื่อไหร่ควรใช้ Field และเมื่อไหร่ควรใช้ Variable"
   ]
  },
  {
   "cell_type": "markdown",
   "metadata": {},
   "source": [
    "*คำตอบ*"
   ]
  },
  {
   "cell_type": "markdown",
   "metadata": {},
   "source": [
    "Field\n",
    "ใช้เมื่อ: ต้องการเก็บข้อมูลที่ เป็นส่วนหนึ่ง ของอ็อบเจ็กต์ (Object) และ มีอายุการใช้งานเท่ากับอ็อบเจ็กต์ นั้นๆ\n",
    "\n",
    "เก็บคุณสมบัติ (Attributes) หรือลักษณะเฉพาะของอ็อบเจ็กต์ เช่น ชื่อ, อายุ, สี, ราคา\n",
    "\n",
    "กำหนดสถานะของอ็อบเจ็กต์ เช่น เปิด/ปิด, พร้อมใช้งาน/ไม่พร้อมใช้งาน\n",
    "\n",
    "เป็นส่วนหนึ่งของโครงสร้างคลาส (Class) หรือโครงสร้าง (Struct)\n",
    "\n",
    "Variable\n",
    "ใช้เมื่อ: ต้องการเก็บข้อมูล ชั่วคราว ภายในเมธอด (Method) หรือบล็อกโค้ดอื่นๆ\n",
    "\n",
    "ใช้ในการคำนวณ เช่น ผลลัพธ์ของการคำนวณ, ตัวนับ\n",
    "\n",
    "เก็บข้อมูลที่ใช้เฉพาะภายในเมธอด เช่น ข้อมูลที่รับมาจากผู้ใช้\n",
    "\n",
    "เป็นตัวแปรที่ใช้ในการวนลูป"
   ]
  },
  {
   "cell_type": "markdown",
   "metadata": {},
   "source": [
    "6. ในโปรแกรมการทดลองนี้ มี field หรือไม่ อยู่ในบรรทัดที่เท่าไหร่\n"
   ]
  },
  {
   "cell_type": "markdown",
   "metadata": {},
   "source": [
    "*คำตอบ*"
   ]
  },
  {
   "cell_type": "markdown",
   "metadata": {},
   "source": [
    "Field อยู่ในคลาส Person ซึ่งประกาศไว้ในบรรทัดที่ 12, 13 และ 14"
   ]
  },
  {
   "cell_type": "markdown",
   "metadata": {},
   "source": [
    "7. ผลจากการรันโปรแกรมใน Console Application และใน polyglot notebook เหมือนหรือแตกต่างกันอย่างไร"
   ]
  },
  {
   "cell_type": "markdown",
   "metadata": {},
   "source": [
    "*คำตอบ*"
   ]
  },
  {
   "cell_type": "markdown",
   "metadata": {},
   "source": [
    " run ในconsole app สามารถทำได้เเละเเสดงผล เเต่ใน polyglot ไม่สามารถ run ได้เนื่องจาก ไม่ได้ประกาศตัวเเปรให้เป็น public เเต่ประกาศเป็น protected เเทน"
   ]
  }
 ],
 "metadata": {
  "kernelspec": {
   "display_name": ".NET (C#)",
   "language": "C#",
   "name": ".net-csharp"
  },
  "polyglot_notebook": {
   "kernelInfo": {
    "defaultKernelName": "csharp",
    "items": [
     {
      "aliases": [],
      "languageName": "csharp",
      "name": "csharp"
     }
    ]
   }
  }
 },
 "nbformat": 4,
 "nbformat_minor": 2
}
