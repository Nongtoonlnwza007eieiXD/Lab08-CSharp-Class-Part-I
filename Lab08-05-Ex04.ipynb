{
 "cells": [
  {
   "cell_type": "markdown",
   "metadata": {},
   "source": [
    "# Lab 8 Exercise 4\n",
    "\n",
    "## Fields declaration and initialization\n",
    "\n"
   ]
  },
  {
   "cell_type": "markdown",
   "metadata": {},
   "source": [
    "\n",
    "1. สร้าง console application project\n",
    "\n",
    "```\n",
    "    dotnet new console --name Lab08_Ex04\n",
    "```\n"
   ]
  },
  {
   "cell_type": "markdown",
   "metadata": {},
   "source": [
    "\n",
    "2. เปลี่ยน code ให้เป็นดังต่อไปนี้\n",
    "\n",
    "> ```csharp\n",
    ">  1. var myObj = new MyClass();\n",
    ">  2. \n",
    ">  3. System.Console.WriteLine($\"Default integer      F1 = {myObj.F1}\");  //Implicit fields initialization\n",
    ">  4. System.Console.WriteLine($\"Default string       F2 = {myObj.F2}\");\n",
    ">  5. System.Console.WriteLine($\"Initialized integer  F3 = {myObj.F3}\");  //Explicit field initialization\n",
    ">  6. System.Console.WriteLine($\"Initialized string   F4 = {myObj.F4}\");\n",
    ">  7. \n",
    ">  8. class MyClass\n",
    ">  9. {\n",
    "> 10.    public int F1;\n",
    "> 11.    public string F2;\n",
    "> 12.    public int F3 = 100;\n",
    "> 13.    public string F4 = \"ASDF\";\n",
    "> 14. }\n",
    "> ```"
   ]
  },
  {
   "cell_type": "markdown",
   "metadata": {},
   "source": [
    "\n",
    "3. Build project โดยการใช้คำสั่ง\n",
    "\n",
    "```\n",
    "    dotnet build  Lab08_Ex04\n",
    "```"
   ]
  },
  {
   "cell_type": "markdown",
   "metadata": {},
   "source": [
    "\n",
    "4. บันทึกผลที่ได้จากการรันคำสั่งในข้อ 3\n"
   ]
  },
  {
   "cell_type": "markdown",
   "metadata": {},
   "source": [
    "*คำตอบ*"
   ]
  },
  {
   "cell_type": "markdown",
   "metadata": {},
   "source": [
    "Build succeeded.\n",
    "    0 Warning(s)\n",
    "    0 Error(s)"
   ]
  },
  {
   "cell_type": "markdown",
   "metadata": {},
   "source": [
    "\n",
    "5. Run project โดยการใช้คำสั่ง\n",
    "\n",
    "```\n",
    "    dotnet run --project Lab08_Ex04\n",
    "```"
   ]
  },
  {
   "cell_type": "markdown",
   "metadata": {},
   "source": [
    "\n",
    "6. บันทึกผลที่ได้จากการรันคำสั่งในข้อ 5\n",
    "\n"
   ]
  },
  {
   "cell_type": "markdown",
   "metadata": {},
   "source": [
    "*คำตอบ*"
   ]
  },
  {
   "cell_type": "markdown",
   "metadata": {},
   "source": [
    "Default integer      F1 = 0\n",
    "Default string       F2 =\n",
    "Initialized integer  F3 = 100\n",
    "Initialized string   F4 = ASDF"
   ]
  },
  {
   "cell_type": "markdown",
   "metadata": {},
   "source": [
    "7. อธิบายสิ่งที่พบในการทดลอง"
   ]
  },
  {
   "cell_type": "markdown",
   "metadata": {},
   "source": [
    "*คำตอบ*"
   ]
  },
  {
   "cell_type": "markdown",
   "metadata": {},
   "source": [
    "โค้ดนี้แสดงตัวอย่างของการกำหนดค่าเริ่มต้นให้กับฟิลด์ในคลาส และการแสดงค่าของฟิลด์เหล่านั้นจากการสร้างอ็อบเจ็กต์จากคลาสนั้นผ่าน Console.WriteLine เพื่อให้เห็นผลของการกำหนดค่าพื้นฐานและค่าที่กำหนดเอง"
   ]
  },
  {
   "cell_type": "markdown",
   "metadata": {},
   "source": [
    "8. นำ code ในข้อ 2 มารันบน polyglot notebook  โดยใส่ใน  code cell ด้านล่างนี้\n"
   ]
  },
  {
   "cell_type": "code",
   "execution_count": null,
   "metadata": {
    "dotnet_interactive": {
     "language": "csharp"
    },
    "polyglot_notebook": {
     "kernelName": "csharp"
    }
   },
   "outputs": [],
   "source": [
    "// พื้นที่เขียน code ตามข้อ 2\n",
    "var myObj = new MyClass();\n",
    "\n",
    "System.Console.WriteLine($\"Default integer      F1 = {myObj.F1}\");  //Implicit fields initialization\n",
    "System.Console.WriteLine($\"Default string       F2 = {myObj.F2}\");\n",
    "System.Console.WriteLine($\"Initialized integer  F3 = {myObj.F3}\");  //Explicit field initialization\n",
    "System.Console.WriteLine($\"Initialized string   F4 = {myObj.F4}\");\n",
    " \n",
    "class MyClass\n",
    "{\n",
    "    public int F1;\n",
    "   public string F2;\n",
    "    public int F3 = 100;\n",
    "    public string F4 = \"ASDF\";\n",
    "}\n"
   ]
  },
  {
   "cell_type": "markdown",
   "metadata": {},
   "source": [
    "8.1 ผลการรันเป็นอย่างไร\n",
    "\n"
   ]
  },
  {
   "cell_type": "markdown",
   "metadata": {},
   "source": [
    "*คำตอบ*"
   ]
  },
  {
   "cell_type": "markdown",
   "metadata": {},
   "source": [
    "Default integer      F1 = 0\n",
    "\n",
    "Default string       F2 = \n",
    "\n",
    "Initialized integer  F3 = 100\n",
    "\n",
    "Initialized string   F4 = ASDF"
   ]
  },
  {
   "cell_type": "markdown",
   "metadata": {},
   "source": [
    "8.2 เหมือนหรือต่างจาก console application อย่างไร"
   ]
  },
  {
   "cell_type": "markdown",
   "metadata": {},
   "source": [
    "*คำตอบ*"
   ]
  },
  {
   "cell_type": "markdown",
   "metadata": {},
   "source": [
    "แสดงผลลัพธ์เหมือนกันทั้งคู่"
   ]
  },
  {
   "cell_type": "markdown",
   "metadata": {},
   "source": [
    "## คำถาม"
   ]
  },
  {
   "cell_type": "markdown",
   "metadata": {},
   "source": [
    "1. Field ในภาษา C# คืออะไร\n"
   ]
  },
  {
   "cell_type": "markdown",
   "metadata": {},
   "source": [
    "*คำตอบ*"
   ]
  },
  {
   "cell_type": "markdown",
   "metadata": {},
   "source": [
    "ในภาษา C# Field คือตัวแปรที่ประกาศไว้ภายในคลาส (Class) หรือโครงสร้าง (Struct) เพื่อเก็บข้อมูลหรือสถานะของอ็อบเจ็กต์ (Object) ที่สร้างจากคลาสนั้นๆ"
   ]
  },
  {
   "cell_type": "markdown",
   "metadata": {},
   "source": [
    "2. Field มีหน้าที่อะไรใน class \n"
   ]
  },
  {
   "cell_type": "markdown",
   "metadata": {},
   "source": [
    "*คำตอบ*"
   ]
  },
  {
   "cell_type": "markdown",
   "metadata": {},
   "source": [
    "Field ใน class มีหน้าที่สำคัญในการจัดเก็บข้อมูลหรือสถานะของอ็อบเจ็กต์ที่สร้างจากคลาส ซึ่งเป็นเหมือนพิมพ์เขียวหรือแม่แบบในการสร้างอ็อบเจ็กต์"
   ]
  },
  {
   "cell_type": "markdown",
   "metadata": {},
   "source": [
    "3. การประกาศ Field ทำได้อย่างไร"
   ]
  },
  {
   "cell_type": "markdown",
   "metadata": {},
   "source": [
    "*คำตอบ*"
   ]
  },
  {
   "cell_type": "markdown",
   "metadata": {},
   "source": [
    "การประกาศ Field ในภาษา C# ทำได้โดยการระบุชนิดข้อมูล (Data Type) และชื่อของ Field ภายในคลาส (Class) หรือโครงสร้าง (Struct) \n",
    "\n",
    "[access modifier] [type] [field name]; รูปแบบการประกาศ"
   ]
  },
  {
   "cell_type": "markdown",
   "metadata": {},
   "source": [
    "4. Implicit fields initialization  คืออะไร"
   ]
  },
  {
   "cell_type": "markdown",
   "metadata": {},
   "source": [
    "*คำตอบ*"
   ]
  },
  {
   "cell_type": "markdown",
   "metadata": {},
   "source": [
    "mplicit field initialization คือการกำหนดค่าเริ่มต้นให้กับ field ของคลาสในขณะที่ทำการประกาศ field นั้นๆ โดยตรง ทำให้ field นั้นมีค่าเริ่มต้นทันทีที่อ็อบเจ็กต์ของคลาสถูกสร้างขึ้น"
   ]
  },
  {
   "cell_type": "markdown",
   "metadata": {},
   "source": [
    "5. Explicit field initialization คืออะไร\n",
    "\n"
   ]
  },
  {
   "cell_type": "markdown",
   "metadata": {},
   "source": [
    "*คำตอบ*"
   ]
  },
  {
   "cell_type": "markdown",
   "metadata": {},
   "source": [
    "Explicit field initialization คือการกำหนดค่าเริ่มต้นให้กับ field ของคลาสในภาษา C# โดยใช้ Constructor ของคลาส"
   ]
  },
  {
   "cell_type": "markdown",
   "metadata": {},
   "source": [
    "6. Implicit fields initialization  และ Explicit field initialization แตกต่างกันอย่างไร\n",
    "\n"
   ]
  },
  {
   "cell_type": "markdown",
   "metadata": {},
   "source": [
    "*คำตอบ*"
   ]
  },
  {
   "cell_type": "markdown",
   "metadata": {},
   "source": [
    "Implicit field initialization: กำหนดค่าเริ่มต้นให้กับ field โดยตรง ณ จุดที่ประกาศ field\n",
    "\n",
    "Explicit field initialization: กำหนดค่าเริ่มต้นให้กับ field ผ่าน Constructor ของคลาส"
   ]
  }
 ],
 "metadata": {
  "kernelspec": {
   "display_name": ".NET (C#)",
   "language": "C#",
   "name": ".net-csharp"
  },
  "polyglot_notebook": {
   "kernelInfo": {
    "defaultKernelName": "csharp",
    "items": [
     {
      "aliases": [],
      "languageName": "csharp",
      "name": "csharp"
     }
    ]
   }
  }
 },
 "nbformat": 4,
 "nbformat_minor": 2
}
