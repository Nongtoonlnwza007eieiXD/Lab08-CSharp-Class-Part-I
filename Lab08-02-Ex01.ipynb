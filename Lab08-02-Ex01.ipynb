{
 "cells": [
  {
   "cell_type": "markdown",
   "metadata": {},
   "source": [
    "# Lab 8 Exercise 1 \n",
    "##  การสร้าง Class\n"
   ]
  },
  {
   "cell_type": "markdown",
   "metadata": {},
   "source": [
    "\n",
    "1. สร้าง console application project\n"
   ]
  },
  {
   "cell_type": "markdown",
   "metadata": {},
   "source": [
    "1.1 เรียก terminal (cmd) ขึ้นมา \n",
    "\n",
    "1.2 ตรวจสอบให้แน่ใจว่าอยู่ใน folder หรือ directory ที่ต้องการสร้าง project \n",
    "\n",
    "1.3 พิมพ์คำสั่งต่อไปนี้\n",
    "\n",
    "``` \n",
    "    dotnet new console --name Lab08_Ex01\n",
    "```\n",
    "\n",
    "1.4 ใช้คำสั่ง dir เพื่อตรวจสอบดูว่าโฟลเดอร์ของ project ได้ถูกสร้างขึ้นแล้วหรือยัง"
   ]
  },
  {
   "cell_type": "markdown",
   "metadata": {},
   "source": [
    "\n",
    "2. เปลี่ยน code ในไฟล์ program.cs ให้เป็นดังต่อไปนี้ (ตัวเลขข้างหน้า คือหมายเลขบรรทัด ไว้สำหรับอ้างอิง)\n",
    "\n",
    "> ```c#\n",
    "> 1.  Person p = new Person();\n",
    "> 2.  System.Console.WriteLine($\"Type of p is {p.GetType()}\");\n",
    "> 3.  \n",
    "> 4.  class Person\n",
    "> 5.  {\n",
    "> 6.  \n",
    "> 7.  }\n",
    "> ```\n"
   ]
  },
  {
   "cell_type": "markdown",
   "metadata": {},
   "source": [
    "\n",
    "3. Build project โดยการใช้คำสั่ง\n",
    "\n",
    "```\n",
    "dotnet build  Lab08_Ex01\n",
    "```\n"
   ]
  },
  {
   "cell_type": "markdown",
   "metadata": {},
   "source": [
    "\n",
    "4. บันทึกผลที่ได้จากการรันคำสั่งในข้อ 3\n"
   ]
  },
  {
   "cell_type": "markdown",
   "metadata": {},
   "source": [
    "*คำตอบ*"
   ]
  },
  {
   "cell_type": "markdown",
   "metadata": {},
   "source": [
    "Build succeeded.\n",
    "    0 Warning(s)\n",
    "    0 Error(s)"
   ]
  },
  {
   "cell_type": "markdown",
   "metadata": {},
   "source": [
    "\n",
    "5. Run project โดยการใช้คำสั่ง\n",
    "\n",
    "```\n",
    "dotnet run --project Lab08_Ex01\n",
    "```\n"
   ]
  },
  {
   "cell_type": "markdown",
   "metadata": {},
   "source": [
    "\n",
    "6. บันทึกผลที่ได้จากการรันคำสั่งในข้อ 5\n"
   ]
  },
  {
   "cell_type": "markdown",
   "metadata": {},
   "source": [
    "*คำตอบ*"
   ]
  },
  {
   "cell_type": "markdown",
   "metadata": {},
   "source": [
    "Type of p is Person"
   ]
  },
  {
   "cell_type": "markdown",
   "metadata": {},
   "source": [
    "7. โค้ดต่อไปนี้สามารถรันได้ใน polyglot notebook หรือไม่ "
   ]
  },
  {
   "cell_type": "code",
   "execution_count": null,
   "metadata": {
    "dotnet_interactive": {
     "language": "csharp"
    },
    "polyglot_notebook": {
     "kernelName": "csharp"
    }
   },
   "outputs": [
    {
     "name": "stdout",
     "output_type": "stream",
     "text": [
      "Type of p is Submission#1+Person\r\n"
     ]
    }
   ],
   "source": [
    "Person p = new Person();\n",
    "System.Console.WriteLine($\"Type of p is {p.GetType()}\");\n",
    "\n",
    "class Person\n",
    "{\n",
    "\n",
    "}"
   ]
  },
  {
   "cell_type": "markdown",
   "metadata": {},
   "source": [
    "*คำตอบ*"
   ]
  },
  {
   "cell_type": "markdown",
   "metadata": {},
   "source": [
    "Type of p is Submission#1+Person"
   ]
  },
  {
   "cell_type": "markdown",
   "metadata": {},
   "source": [
    "ได้"
   ]
  },
  {
   "cell_type": "markdown",
   "metadata": {},
   "source": [
    "## คำถาม\n",
    "\n"
   ]
  },
  {
   "cell_type": "markdown",
   "metadata": {},
   "source": [
    "1. Class ในภาษา C# คืออะไร\n"
   ]
  },
  {
   "cell_type": "markdown",
   "metadata": {},
   "source": [
    "*คำตอบ*"
   ]
  },
  {
   "cell_type": "markdown",
   "metadata": {},
   "source": [
    "ในภาษา C# Class (คลาส) คือโครงสร้าง (หรือแบบแผน) ที่ใช้สำหรับการสร้าง อ็อบเจ็กต์ (objects) โดยภายในคลาสจะมีการประกาศ ฟิลด์ (fields), เมธอด (methods), พร็อพเพอร์ตี (properties), อีเวนต์ (events), และ คอนสตรัคเตอร์ (constructors) ที่ใช้ในการกำหนดลักษณะและพฤติกรรมของอ็อบเจ็กต์ที่ถูกสร้างจากคลาสนั้น"
   ]
  },
  {
   "cell_type": "markdown",
   "metadata": {},
   "source": [
    "2. Class มีหน้าที่อะไร\n"
   ]
  },
  {
   "cell_type": "markdown",
   "metadata": {},
   "source": [
    "*คำตอบ*"
   ]
  },
  {
   "cell_type": "markdown",
   "metadata": {},
   "source": [
    "ในภาษา C# คลาส (Class) มีหน้าที่หลักในการทำหน้าที่เป็น แบบแผน หรือ โครงสร้าง สำหรับการสร้าง อ็อบเจ็กต์ (Object) ที่มีทั้งข้อมูล (ฟิลด์) และพฤติกรรม (เมธอด) ที่เกี่ยวข้องกันอยู่ภายในคลาสเดียวกัน ซึ่งทำให้เราสามารถจัดการและดำเนินการกับข้อมูลต่างๆ ได้ในรูปแบบที่เป็นระเบียบและมีโครงสร้างที่ชัดเจน"
   ]
  },
  {
   "cell_type": "markdown",
   "metadata": {},
   "source": [
    "3. ทำไมเราต้องใช้ Class\n"
   ]
  },
  {
   "cell_type": "markdown",
   "metadata": {},
   "source": [
    "*คำตอบ*"
   ]
  },
  {
   "cell_type": "markdown",
   "metadata": {},
   "source": [
    "การจัดระเบียบและจัดการข้อมูล: ช่วยในการรวมข้อมูลและพฤติกรรมที่เกี่ยวข้องกันไว้ในที่เดียวกัน.\n",
    "\n",
    "การนำกลับมาใช้ซ้ำ: ทำให้การสร้างอ็อบเจ็กต์ที่มีคุณสมบัติเหมือนกันแต่ค่าต่างกันง่ายขึ้น.\n",
    "\n",
    "การสืบทอด: ช่วยให้สามารถเพิ่มความสามารถใหม่ๆ ให้กับคลาสเดิมได้ง่าย.\n",
    "\n",
    "การแบ่งแยกความรับผิดชอบ: ทำให้โปรแกรมสามารถจัดการได้ง่ายขึ้นและเข้าใจง่าย.\n",
    "\n",
    "การทำงานร่วมกับ OOP: คลาสเป็นหลักการสำคัญในการพัฒนาโปรแกรมเชิงวัตถุ ซึ่งทำให้โปรแกรมยืดหยุ่นและสามารถพัฒนาในอนาคตได้ง่าย."
   ]
  },
  {
   "cell_type": "markdown",
   "metadata": {},
   "source": [
    "4. ส่วนประกอบของ Class มีอะไรบ้าง\n"
   ]
  },
  {
   "cell_type": "markdown",
   "metadata": {},
   "source": [
    "*คำตอบ*"
   ]
  },
  {
   "cell_type": "markdown",
   "metadata": {},
   "source": [
    "Fields (หรือ Attributes): คือตัวแปรที่เก็บข้อมูลหรือสถานะของอ็อบเจ็กต์ (Object) ที่สร้างจากคลาส \n",
    "\n",
    "Methods (หรือ Behaviors): คือฟังก์ชันที่กำหนดการกระทำหรือพฤติกรรมของอ็อบเจ็กต์ \n",
    "\n",
    "Constructor: คือเมธอดพิเศษที่ใช้ในการสร้างอ็อบเจ็กต์ของคลาส มีหน้าที่กำหนดค่าเริ่มต้นให้กับฟิลด์ต่างๆ ของอ็อบเจ็กต์\n",
    "\n",
    "Properties (บางภาษา): ในบางภาษาเช่น C# หรือ Python จะมี Properties ซึ่งเป็นเหมือนตัวกลางระหว่าง Fields และ Methods ทำให้สามารถเข้าถึงและแก้ไขข้อมูลของ Fields ได้อย่างยืดหยุ่นมากขึ้น\n",
    "\n",
    "Inner Classes (หรือ Nested Classes): คือคลาสที่อยู่ภายในคลาสอื่น ใช้เพื่อจัดกลุ่มคลาสที่เกี่ยวข้องเข้าด้วยกัน หรือเพื่อซ่อนการเข้าถึงคลาสบางอย่างจากภายนอก"
   ]
  },
  {
   "cell_type": "markdown",
   "metadata": {},
   "source": [
    "5. Class และ Object แตกต่างกันอย่างไร\n"
   ]
  },
  {
   "cell_type": "markdown",
   "metadata": {},
   "source": [
    "*คำตอบ*"
   ]
  },
  {
   "cell_type": "markdown",
   "metadata": {},
   "source": [
    "คุณสมบัติ\tClass\tObject\n",
    "\n",
    "ลักษณะ\tพิมพ์เขียว, แม่แบบ\tสิ่งที่สร้างขึ้น, อินสแตนซ์\n",
    "\n",
    "การจับต้อง\tจับต้องไม่ได้\tจับต้องได้ (บางกรณี)\n",
    "\n",
    "สถานะ\tไม่มีการเปลี่ยนแปลง\tเปลี่ยนแปลงได้\n",
    "\n",
    "การใช้งาน\tใช้สร้าง Object\tใช้งานได้จริง"
   ]
  },
  {
   "cell_type": "markdown",
   "metadata": {},
   "source": [
    "6. การตั้งชื่อ Class มีหลักเกณฑ์อย่างไร"
   ]
  },
  {
   "cell_type": "markdown",
   "metadata": {},
   "source": [
    "*คำตอบ*"
   ]
  },
  {
   "cell_type": "markdown",
   "metadata": {},
   "source": [
    "สื่อความหมาย: ชื่อ Class ควรบ่งบอกถึงบทบาทหรือหน้าที่ของ Class นั้นอย่างชัดเจน เช่น Customer, Product, Order\n",
    "\n",
    "ใช้คำนาม: ชื่อ Class ควรเป็นคำนามที่แสดงถึง \"สิ่งของ\" หรือ \"แนวคิด\" ที่ Class นั้นเป็นตัวแทน\n",
    "\n",
    "อักษรตัวแรกเป็นพิมพ์ใหญ่ (PascalCase): ธรรมเนียมปฏิบัติส่วนใหญ่กำหนดให้ชื่อ Class ขึ้นต้นด้วยอักษรตัวใหญ่ และหากมีหลายคำให้ขึ้นต้นคำด้วยอักษรตัวใหญ่เช่นกัน \n",
    "\n",
    "หลีกเลี่ยงคำย่อที่ไม่ชัดเจน: ใช้คำเต็มที่สื่อความหมายได้ชัดเจน แม้ว่าชื่อจะยาวขึ้นบ้างเล็กน้อย\n",
    "\n",
    "สอดคล้องกับภาษาที่ใช้: เลือกใช้ภาษาอังกฤษหรือภาษาอื่นๆ ที่ทีมพัฒนาส่วนใหญ่เข้าใจ\n",
    "\n",
    "ไม่ควรมีช่องว่างหรืออักขระพิเศษ: ใช้ตัวอักษรภาษาอังกฤษ ตัวเลข หรือเครื่องหมาย _ (underscore) เท่านั้น\n",
    "\n",
    "ยาวแต่สื่อความหมาย: ชื่อ Class ที่ดีอาจยาวได้ แต่ต้องสื่อความหมายได้ชัดเจน ไม่ควรตั้งชื่อสั้นเกินไปจนไม่สื่อถึงหน้าที่ของ Class"
   ]
  },
  {
   "cell_type": "markdown",
   "metadata": {},
   "source": [
    "7. คำสั่ง p.GetType() คืออะไร"
   ]
  },
  {
   "cell_type": "markdown",
   "metadata": {},
   "source": [
    "*คำตอบ*"
   ]
  },
  {
   "cell_type": "markdown",
   "metadata": {},
   "source": [
    "คำสั่ง p.GetType() เป็นคำสั่งที่ใช้ในภาษา C# ในการดึงข้อมูลชนิดของอ็อบเจ็กต์ (Object) ที่อ้างอิงโดยตัวแปร p"
   ]
  },
  {
   "cell_type": "markdown",
   "metadata": {},
   "source": [
    "8. ผลที่ได้จากคำสั่ง  p.GetType() คืออะไร มันให้ข้อมูลอะไรแก่เราบ้าง"
   ]
  },
  {
   "cell_type": "markdown",
   "metadata": {},
   "source": [
    "*คำตอบ*"
   ]
  },
  {
   "cell_type": "markdown",
   "metadata": {},
   "source": [
    "ชื่อชนิด (Type Name): ชื่อของคลาสหรือโครงสร้าง (Struct) ของอ็อบเจ็กต์ เช่น String, Int32, MyCustomClass\n",
    "\n",
    "เนมสเปซ (Namespace): เนมสเปซที่คลาสหรือโครงสร้างนั้นอยู่ใน เช่น System, System.Collections.Generic, MyProject.Models\n",
    "\n",
    "ข้อมูลสมาชิก (Members): ข้อมูลเกี่ยวกับสมาชิกต่างๆ ของชนิดนั้น เช่น ฟิลด์ (Fields), เมธอด (Methods), คุณสมบัติ (Properties), เหตุการณ์ (Events)"
   ]
  },
  {
   "cell_type": "markdown",
   "metadata": {},
   "source": [
    "9. ในภาษา C# การประกาศ class ไว้ก่อนหรือหลังการสร้าง  object ต่างกันหรือไม่ "
   ]
  },
  {
   "cell_type": "markdown",
   "metadata": {},
   "source": [
    "การประกาศ class ไว้ก่อนหรือหลังการสร้าง object ในภาษา C# ไม่มีผลต่อการทำงานของโปรแกรม แต่การประกาศ class ไว้ก่อนจะช่วยให้โค้ดดูเป็นระเบียบและอ่านง่ายกว่า"
   ]
  },
  {
   "cell_type": "markdown",
   "metadata": {},
   "source": [
    "*คำตอบ*"
   ]
  }
 ],
 "metadata": {
  "kernelspec": {
   "display_name": ".NET (C#)",
   "language": "C#",
   "name": ".net-csharp"
  },
  "polyglot_notebook": {
   "kernelInfo": {
    "defaultKernelName": "csharp",
    "items": [
     {
      "aliases": [],
      "languageName": "csharp",
      "name": "csharp"
     }
    ]
   }
  }
 },
 "nbformat": 4,
 "nbformat_minor": 2
}
