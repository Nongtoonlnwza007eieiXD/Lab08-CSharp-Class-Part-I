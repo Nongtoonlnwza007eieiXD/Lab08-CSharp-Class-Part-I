{
 "cells": [
  {
   "cell_type": "markdown",
   "metadata": {
    "dotnet_interactive": {
     "language": "csharp"
    },
    "polyglot_notebook": {
     "kernelName": "csharp"
    }
   },
   "source": [
    "# Lab 8 Exercise 6\n",
    "\n",
    "## Method with parameter"
   ]
  },
  {
   "cell_type": "markdown",
   "metadata": {},
   "source": [
    "1. สร้าง console application project\n",
    "\n",
    "```\n",
    "    dotnet new console --name Lab08_Ex06\n",
    "```\n"
   ]
  },
  {
   "cell_type": "markdown",
   "metadata": {},
   "source": [
    "2. เปลี่ยน code ให้เป็นดังต่อไปนี้\n",
    "\n",
    "> ```csharp\n",
    "> 1. var mc = new MyClass();\n",
    "> 2. mc.DisplayParam(3, 4);\n",
    "> 3. class MyClass\n",
    "> 4. {\n",
    "> 5.     public void DisplayParam(int a, int b)\n",
    "> 6.     {\n",
    "> 7.         System.Console.WriteLine($\"a = {a}, b = {b}\");\n",
    "> 8.     } \n",
    "> 9. }\n",
    "> ```\n",
    "\n"
   ]
  },
  {
   "cell_type": "markdown",
   "metadata": {},
   "source": [
    "3. Build project โดยการใช้คำสั่ง\n",
    "\n",
    "```\n",
    "    dotnet build  Lab08_Ex06\n",
    "```"
   ]
  },
  {
   "cell_type": "markdown",
   "metadata": {},
   "source": [
    "4. บันทึกผลที่ได้จากการรันคำสั่งในข้อ 3\n",
    "\n"
   ]
  },
  {
   "cell_type": "markdown",
   "metadata": {},
   "source": [
    "*คำตอบ*"
   ]
  },
  {
   "cell_type": "markdown",
   "metadata": {},
   "source": [
    "Build succeeded.\n",
    "    0 Warning(s)\n",
    "    0 Error(s)"
   ]
  },
  {
   "cell_type": "markdown",
   "metadata": {},
   "source": [
    "5. Run project โดยการใช้คำสั่ง\n",
    "\n",
    "```\n",
    "    dotnet run --project Lab08_Ex06\n",
    "```"
   ]
  },
  {
   "cell_type": "markdown",
   "metadata": {},
   "source": [
    "6. บันทึกผลที่ได้จากการรันคำสั่งในข้อ 5\n",
    "\n",
    "\n"
   ]
  },
  {
   "cell_type": "markdown",
   "metadata": {},
   "source": [
    "*คำตอบ*"
   ]
  },
  {
   "cell_type": "markdown",
   "metadata": {},
   "source": [
    "a = 3, b = 4"
   ]
  },
  {
   "cell_type": "markdown",
   "metadata": {},
   "source": [
    "7. อธิบายสิ่งที่พบในการทดลอง\n"
   ]
  },
  {
   "cell_type": "markdown",
   "metadata": {},
   "source": [
    "*คำตอบ*"
   ]
  },
  {
   "cell_type": "markdown",
   "metadata": {},
   "source": [
    "โค้ดนี้แสดงการสร้างอ็อบเจ็กต์จากคลาส MyClass และการเรียกใช้เมธอด DisplayParam ที่รับพารามิเตอร์สองตัว และแสดงผลลัพธ์ของพารามิเตอร์ทั้งสองบนคอนโซล. การใช้ WriteLine จะแสดงค่าของ a และ b ที่ถูกส่งเข้าไปในการเรียกใช้งานเมธอด"
   ]
  },
  {
   "cell_type": "markdown",
   "metadata": {},
   "source": [
    "8. นำ code ในข้อ 2 มารันบน polyglot notebook  โดยใส่ใน  code cell ด้านล่างนี้\n"
   ]
  },
  {
   "cell_type": "code",
   "execution_count": null,
   "metadata": {
    "dotnet_interactive": {
     "language": "csharp"
    },
    "polyglot_notebook": {
     "kernelName": "csharp"
    }
   },
   "outputs": [],
   "source": [
    "// พื้นที่เขียน code ตามข้อ 2\n",
    "var mc = new MyClass();\n",
    " mc.DisplayParam(3, 4);\n",
    " class MyClass\n",
    " {\n",
    "     public void DisplayParam(int a, int b)\n",
    "     {\n",
    "         System.Console.WriteLine($\"a = {a}, b = {b}\");\n",
    "     } \n",
    " }"
   ]
  },
  {
   "cell_type": "markdown",
   "metadata": {},
   "source": [
    "8.1 ผลการรันเป็นอย่างไร\n",
    "\n"
   ]
  },
  {
   "cell_type": "markdown",
   "metadata": {},
   "source": [
    "*คำตอบ*"
   ]
  },
  {
   "cell_type": "markdown",
   "metadata": {},
   "source": [
    "a = 3, b = 4"
   ]
  },
  {
   "cell_type": "markdown",
   "metadata": {},
   "source": [
    "8.2 เหมือนหรือต่างจาก console application อย่างไร"
   ]
  },
  {
   "cell_type": "markdown",
   "metadata": {},
   "source": [
    "*คำตอบ*"
   ]
  },
  {
   "cell_type": "markdown",
   "metadata": {},
   "source": [
    "ผลลัพธ์เหมือนกันทั้งคู่"
   ]
  },
  {
   "cell_type": "markdown",
   "metadata": {},
   "source": [
    "## คำถาม"
   ]
  },
  {
   "cell_type": "markdown",
   "metadata": {},
   "source": [
    "1. Method with parameter คืออะไร\n"
   ]
  },
  {
   "cell_type": "markdown",
   "metadata": {},
   "source": [
    "*คำตอบ*"
   ]
  },
  {
   "cell_type": "markdown",
   "metadata": {},
   "source": [
    "Method with parameter คือ เมธอด (Method) ในภาษา C# ที่รับค่า argument หรือ parameter เข้ามาประมวลผลภายในเมธอด"
   ]
  },
  {
   "cell_type": "markdown",
   "metadata": {},
   "source": [
    "2. ทำไมเราต้องใช้ parameter ใน method\n"
   ]
  },
  {
   "cell_type": "markdown",
   "metadata": {},
   "source": [
    "*คำตอบ*"
   ]
  },
  {
   "cell_type": "markdown",
   "metadata": {},
   "source": [
    "รับค่าจากภายนอก: Parameter ช่วยให้ Method สามารถรับข้อมูลจากภายนอกเข้ามาประมวลผลได้ เช่น รับตัวเลข 2 ตัวมาบวกกัน หรือรับข้อความมาแสดงผล\n",
    "\n",
    "เพิ่มความยืดหยุ่น: Method ที่มี Parameter สามารถทำงานกับข้อมูลที่แตกต่างกันได้ โดยผู้เรียก Method สามารถส่งค่า Argument ที่แตกต่างกันเข้ามาใน Parameter ได้\n",
    "\n",
    "ลดความซ้ำซ้อน: หากมีชุดคำสั่งที่ต้องทำงานกับข้อมูลที่แตกต่างกัน เราสามารถสร้าง Method ที่รับ Parameter เข้ามาประมวลผลได้ ทำให้ไม่ต้องเขียนชุดคำสั่งซ้ำๆ กันหลายครั้ง\n",
    "\n",
    "เพิ่มประสิทธิภาพ: การใช้ Parameter ช่วยให้ Method สามารถทำงานได้อย่างมีประสิทธิภาพมากขึ้น โดยไม่ต้องสร้าง Method ใหม่สำหรับข้อมูลแต่ละชุด\n",
    "\n",
    "สื่อสารกับ Method: Parameter เป็นเหมือนช่องทางที่ใช้ในการสื่อสารข้อมูลจากภายนอก Method เข้ามายัง Method ทำให้ Method รู้ว่าจะต้องทำงานกับข้อมูลอะไร"
   ]
  },
  {
   "cell_type": "markdown",
   "metadata": {},
   "source": [
    "3. parameter และ argument แตกต่างกันอย่างไร\n"
   ]
  },
  {
   "cell_type": "markdown",
   "metadata": {},
   "source": [
    "*คำตอบ*"
   ]
  },
  {
   "cell_type": "markdown",
   "metadata": {},
   "source": [
    "Parameter (พารามิเตอร์) คือตัวแปรที่ประกาศไว้ในส่วนหัวของเมธอด (Method) เพื่อรับค่าที่ส่งเข้ามาเมื่อมีการเรียกใช้เมธอด\n",
    "\n",
    "ทำหน้าที่เป็นตัวแทนของข้อมูลที่จะถูกใช้ในการประมวลผลภายในเมธอด\n",
    "\n",
    "เปรียบเสมือน \"ช่องรับ\" ข้อมูลที่เมธอดต้องการ\n",
    "\n",
    "Argument (อาร์กิวเมนต์) คือค่าจริงที่ถูกส่งเข้าไปในเมธอดเมื่อมีการเรียกใช้เมธอด\n",
    "\n",
    "เป็นข้อมูลที่ถูกส่งเข้าไปใน Parameter เพื่อให้เมธอดนำไปประมวลผล\n",
    "\n",
    "เปรียบเสมือน \"ข้อมูล\" ที่ถูกส่งเข้าไปใน \"ช่องรับ\" ของเมธอด"
   ]
  },
  {
   "cell_type": "markdown",
   "metadata": {},
   "source": [
    "4. ส่วนประกอบของ method ที่มี parameter มีอะไรบ้าง\n"
   ]
  },
  {
   "cell_type": "markdown",
   "metadata": {},
   "source": [
    "*คำตอบ*"
   ]
  },
  {
   "cell_type": "markdown",
   "metadata": {},
   "source": [
    "1. Access Modifier (ตัวปรับแต่งการเข้าถึง)\n",
    "\n",
    "2. Return Type (ชนิดข้อมูลที่ส่งกลับ)\n",
    "\n",
    "3. Method Name (ชื่อ Method)\n",
    "\n",
    "4. Parameter List (รายการ Parameter)\n",
    "\n",
    "5. Method Body (ส่วนของโค้ด)\n"
   ]
  },
  {
   "cell_type": "markdown",
   "metadata": {},
   "source": [
    "5. เมื่อไหร่ควรใช้ method ที่มี parameter"
   ]
  },
  {
   "cell_type": "markdown",
   "metadata": {},
   "source": [
    "*คำตอบ*"
   ]
  },
  {
   "cell_type": "markdown",
   "metadata": {},
   "source": [
    "ต้องการรับค่าจากภายนอก: เมื่อ Method ต้องการข้อมูลจากภายนอกเพื่อนำมาประมวลผล เช่น การคำนวณพื้นที่สี่เหลี่ยมผืนผ้า ซึ่งต้องรับค่าความกว้างและความยาว หรือการตรวจสอบว่าผู้ใช้ป้อนข้อมูลถูกต้องหรือไม่ ซึ่งต้องรับข้อมูลที่ผู้ใช้ป้อนเข้ามา\n",
    "\n",
    "ต้องการให้ Method ทำงานกับข้อมูลที่แตกต่างกัน: เมื่อ Method ต้องการทำงานกับข้อมูลที่หลากหลายรูปแบบ เช่น Method สำหรับการแสดงผลข้อความ ซึ่งสามารถรับข้อความที่แตกต่างกันเข้ามาแสดงผลได้\n",
    "\n",
    "ต้องการลดความซ้ำซ้อนของโค้ด: เมื่อมีชุดคำสั่งที่ต้องทำงานกับข้อมูลที่แตกต่างกัน เราสามารถสร้าง Method ที่รับ Parameter เข้ามาประมวลผลได้ ทำให้ไม่ต้องเขียนชุดคำสั่งซ้ำๆ กันหลายครั้ง\n",
    "\n",
    "ต้องการเพิ่มประสิทธิภาพ: การใช้ Parameter ช่วยให้ Method สามารถทำงานได้อย่างมีประสิทธิภาพมากขึ้น โดยไม่ต้องสร้าง Method ใหม่สำหรับข้อมูลแต่ละชุด\n",
    "\n",
    "ต้องการสื่อสารกับ Method: Parameter เป็นเหมือนช่องทางที่ใช้ในการสื่อสารข้อมูลจากภายนอก Method เข้ามายัง Method ทำให้ Method รู้ว่าจะต้องทำงานกับข้อมูลอะไร"
   ]
  },
  {
   "cell_type": "markdown",
   "metadata": {},
   "source": [
    "6. ถ้าแก้ไขโค้ดในบรรทัดที่ 2 เป็นดังต่อไปนี้  จะได้ผลการ build หรือ run เป็นอย่างไร ให้แสดง output ที่โปรแกรมแสดงออกมา\n",
    "```csharp\n",
    "    mc.DisplayParam(3.5, 4.2);\n",
    "```\n"
   ]
  },
  {
   "cell_type": "code",
   "execution_count": null,
   "metadata": {
    "dotnet_interactive": {
     "language": "csharp"
    },
    "polyglot_notebook": {
     "kernelName": "csharp"
    }
   },
   "outputs": [
    {
     "ename": "Error",
     "evalue": "(3,18): error CS1503: Argument 1: cannot convert from 'double' to 'int'\r\n(3,23): error CS1503: Argument 2: cannot convert from 'double' to 'int'",
     "output_type": "error",
     "traceback": [
      "(3,18): error CS1503: Argument 1: cannot convert from 'double' to 'int'\r\n",
      "(3,23): error CS1503: Argument 2: cannot convert from 'double' to 'int'"
     ]
    }
   ],
   "source": [
    "// พื้นที่เขียน code และทดสอบ\n",
    "var mc = new MyClass();\n",
    " mc.DisplayParam(3.5, 4.2);\n",
    " class MyClass\n",
    " {\n",
    "     public void DisplayParam(int a, int b)\n",
    "     {\n",
    "         System.Console.WriteLine($\"a = {a}, b = {b}\");\n",
    "     } \n",
    " }\n"
   ]
  },
  {
   "cell_type": "markdown",
   "metadata": {},
   "source": [
    "*คำตอบ*"
   ]
  },
  {
   "cell_type": "markdown",
   "metadata": {},
   "source": [
    "Error: (3,18): error CS1503: Argument 1: cannot convert from 'double' to 'int'\n",
    "(3,23): error CS1503: Argument 2: cannot convert from 'double' to 'int'"
   ]
  },
  {
   "cell_type": "markdown",
   "metadata": {},
   "source": [
    "7. ถ้าแก้ไขโค้ดในบรรทัดที่ 2 เป็นดังต่อไปนี้  จะได้ผลการ build หรือ run เป็นอย่างไร ให้แสดง output ที่โปรแกรมแสดงออกมา\n",
    "```csharp\n",
    "    mc.DisplayParam(\"Hello\", \"World\");\n",
    "```"
   ]
  },
  {
   "cell_type": "code",
   "execution_count": null,
   "metadata": {},
   "outputs": [
    {
     "ename": "Error",
     "evalue": "(3,18): error CS1503: Argument 1: cannot convert from 'string' to 'int'\r\n(3,27): error CS1503: Argument 2: cannot convert from 'string' to 'int'",
     "output_type": "error",
     "traceback": [
      "(3,18): error CS1503: Argument 1: cannot convert from 'string' to 'int'\r\n",
      "(3,27): error CS1503: Argument 2: cannot convert from 'string' to 'int'"
     ]
    }
   ],
   "source": [
    "// พื้นที่เขียน code และทดสอบ\n",
    "var mc = new MyClass();\n",
    " mc.DisplayParam(\"Hello\", \"World\");\n",
    " class MyClass\n",
    " {\n",
    "     public void DisplayParam(int a, int b)\n",
    "     {\n",
    "         System.Console.WriteLine($\"a = {a}, b = {b}\");\n",
    "     } \n",
    " }"
   ]
  },
  {
   "cell_type": "markdown",
   "metadata": {},
   "source": [
    "*คำตอบ*"
   ]
  },
  {
   "cell_type": "markdown",
   "metadata": {},
   "source": [
    "Error: (3,18): error CS1503: Argument 1: cannot convert from 'string' to 'int'\n",
    "(3,27): error CS1503: Argument 2: cannot convert from 'string' to 'int'"
   ]
  },
  {
   "cell_type": "markdown",
   "metadata": {},
   "source": [
    "8. จงเขียน method ที่ตรวจสอบว่าตัวเลขที่รับเข้ามาเป็นจำนวนคู่หรือจำนวนคี่ และแสดงผลลัพธ์ทางหน้าจอ"
   ]
  },
  {
   "cell_type": "code",
   "execution_count": null,
   "metadata": {
    "dotnet_interactive": {
     "language": "csharp"
    },
    "polyglot_notebook": {
     "kernelName": "csharp"
    }
   },
   "outputs": [
    {
     "name": "stdout",
     "output_type": "stream",
     "text": [
      "10 เป็นเลขคู่\n",
      "7 เป็นเลขคี่\n"
     ]
    }
   ],
   "source": [
    "// พื้นที่เขียน code และทดสอบ\n",
    "    \n",
    "public static void CheckEvenOdd(int number)\n",
    "{\n",
    "  if (number % 2 == 0)\n",
    "  {\n",
    "    Console.WriteLine(number + \" เป็นเลขคู่\");\n",
    "  }\n",
    "  else\n",
    "  {\n",
    "    Console.WriteLine(number + \" เป็นเลขคี่\");\n",
    "  }\n",
    "}\n",
    "CheckEvenOdd(10); // ผลลัพธ์: 10 เป็นเลขคู่\n",
    "CheckEvenOdd(7); // ผลลัพธ์: 7 เป็นเลขคี่"
   ]
  },
  {
   "cell_type": "markdown",
   "metadata": {},
   "source": [
    "*คำตอบ*"
   ]
  },
  {
   "cell_type": "markdown",
   "metadata": {},
   "source": [
    "10 เป็นเลขคู่\n",
    "7 เป็นเลขคี่"
   ]
  }
 ],
 "metadata": {
  "kernelspec": {
   "display_name": ".NET (C#)",
   "language": "C#",
   "name": ".net-csharp"
  },
  "polyglot_notebook": {
   "kernelInfo": {
    "defaultKernelName": "csharp",
    "items": [
     {
      "aliases": [],
      "languageName": "csharp",
      "name": "csharp"
     }
    ]
   }
  }
 },
 "nbformat": 4,
 "nbformat_minor": 2
}
